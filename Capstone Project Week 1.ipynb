{
 "cells": [
  {
   "cell_type": "markdown",
   "metadata": {},
   "source": [
    "### Capstone Project - Organic Bubble Tea Shop in HK\n",
    "\n",
    "#### Introduction / business problem\n",
    "\n",
    "Hong Kong is one of the most densely populated and sophisticated cities in the world with a population of over 7.49 million. Being known as a ‘Food Paradise’, Hong Kong is famous for food and its wide-ranging cuisines have become part of the popular culture in Hong Kong. Recent years have seen a growing trend of ‘foodies’ in Hong Kong, showing that Hongkongers have increasing demand on food quality and variety. As a resident of this city, I decided to explore my hometown in my project, with the combination of one of the most popular food cravings in Hong Kong - Bubble Tea.\n",
    "\n",
    "In the past year with the existence of COVID, people are more aware of their health as well as food qualities. Hence, there is a shift in customer preference from carbonised drinks to healthier drinks.  Despite its popularity, bubble tea has always been labelled with health issues because of the cost-efficient ingredients (e.g. tapioca pearls and artificial flavourings).  With society’s growing health awareness, customers are seeking healthier options, but there is not much in Hong Kong’s milk tea market. \n",
    "\n",
    "As seen from this, I would like to explore the ideal district in Hong Kong for opening a Bubble Tea shop that offers authentic Taiwanese organic milk tea to milk tea lovers, with the use of organic ingredients.\n",
    "\n",
    "Hong Kong covers an area of 1,106 km² and has 3 regions in general: Hong Kong Island, Kowloon and New Territories. The city is divided into 18 districts, where diverse characteristics are observed in various districts: some are more commercial, some are more residential, and some are more touristic.\n",
    "\n",
    "As the target and potential customers of the Bubble Tea shop are mostly teenagers and young adults, and the fact that organic drinks will be priced slightly higher than ordinary bubble teas, several factors will be taken into account in determining the ideal district for the shop: median monthly household income, population and age groups. Considering all these factors, we can create a map of Hong Kong and information chart where each district is clustered with reference to the venue density.\n",
    "\n",
    "#### Description of the data: \n",
    "•\tThe first table extracted from the page on Wikipedia: https://en.wikipedia.org/wiki/Districts_of_Hong_Kong will be used as the starting point. It shows the names and regions of the 18 districts in Hong Kong, its respective population as well as population density. The name of the districts will be used to map with the geo data to create a map\n",
    "\n",
    "•\tLatitude and longitude of 18 Hong Kong districts can be found in hklatlon.csv, in which the coordinates are found from https://latitude.to/map/hk/hong-kong/cities/hong-kong \n",
    "\n",
    "•\tFoursquare API will be used to get the 10 most common venues of the 18 districts in Hong Kong, which will be further used for clustering\n",
    "\n",
    "•\tAnalysis of social parameters (age groups and median monthly household income) will be referenced to HK_median income.csv and HK_age.csv. These datas are available in the Census and Statistics Department of Hong Kong - Population and Household Statistics Analysed by District Council District\n"
   ]
  }
 ],
 "metadata": {
  "kernelspec": {
   "display_name": "Python 3",
   "language": "python",
   "name": "python3"
  },
  "language_info": {
   "codemirror_mode": {
    "name": "ipython",
    "version": 3
   },
   "file_extension": ".py",
   "mimetype": "text/x-python",
   "name": "python",
   "nbconvert_exporter": "python",
   "pygments_lexer": "ipython3",
   "version": "3.7.6"
  }
 },
 "nbformat": 4,
 "nbformat_minor": 4
}
